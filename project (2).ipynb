{
  "nbformat": 4,
  "nbformat_minor": 0,
  "metadata": {
    "colab": {
      "provenance": []
    },
    "kernelspec": {
      "name": "python3",
      "display_name": "Python 3"
    },
    "language_info": {
      "name": "python"
    }
  },
  "cells": [
    {
      "cell_type": "markdown",
      "source": [
        "# _Interactive Linguistic Essay_"
      ],
      "metadata": {
        "id": "mTKiwL_dpk7u"
      }
    },
    {
      "cell_type": "markdown",
      "source": [
        " ### **Introduction**"
      ],
      "metadata": {
        "id": "1_NtmIgrqDDA"
      }
    },
    {
      "cell_type": "markdown",
      "source": [
        "#### In this project, I utilized **Python** to conduct _language analysis_. I am still learning it, but I **hope** I'm on the _right track._"
      ],
      "metadata": {
        "id": "WOTJgsGmoysN"
      }
    },
    {
      "cell_type": "markdown",
      "source": [
        "![money.jfif](data:image/jpeg;base64,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)"
      ],
      "metadata": {
        "id": "AMgBBRIdpfxc"
      }
    },
    {
      "cell_type": "markdown",
      "source": [],
      "metadata": {
        "id": "Tn_mN24Lo6sP"
      }
    },
    {
      "cell_type": "markdown",
      "source": [
        "##### _TASK 1._ First of all, as a warm up, I calculated basic mathematical operations. We should remember the most basic structures, such as calculating the sum and product. Moreover, _import math_ in a _Python code cell_ perform calculations, and then display the results in a _Markdown cell_, which is a useful tool."
      ],
      "metadata": {
        "id": "HXwgDMG2olq4"
      }
    },
    {
      "cell_type": "code",
      "source": [
        "4 + 4\n"
      ],
      "metadata": {
        "colab": {
          "base_uri": "https://localhost:8080/"
        },
        "id": "Ci8J-FvqatPF",
        "outputId": "e6b07a09-4a2f-4920-80a9-a35a355d9de2"
      },
      "execution_count": null,
      "outputs": [
        {
          "output_type": "execute_result",
          "data": {
            "text/plain": [
              "8"
            ]
          },
          "metadata": {},
          "execution_count": 46
        }
      ]
    },
    {
      "cell_type": "code",
      "source": [
        "6 * 5 + 12"
      ],
      "metadata": {
        "colab": {
          "base_uri": "https://localhost:8080/"
        },
        "id": "ToH2DYT8av8H",
        "outputId": "4adc45fa-ea20-4665-97ed-ea96f518b2ca"
      },
      "execution_count": null,
      "outputs": [
        {
          "output_type": "execute_result",
          "data": {
            "text/plain": [
              "42"
            ]
          },
          "metadata": {},
          "execution_count": 47
        }
      ]
    },
    {
      "cell_type": "code",
      "source": [
        "import math"
      ],
      "metadata": {
        "id": "uut5mssGbDw8"
      },
      "execution_count": null,
      "outputs": []
    },
    {
      "cell_type": "code",
      "source": [
        "math.pi"
      ],
      "metadata": {
        "colab": {
          "base_uri": "https://localhost:8080/"
        },
        "id": "DUMnWZK0bFsw",
        "outputId": "b169bd42-48af-475f-c03e-b0acc14f8378"
      },
      "execution_count": null,
      "outputs": [
        {
          "output_type": "execute_result",
          "data": {
            "text/plain": [
              "3.141592653589793"
            ]
          },
          "metadata": {},
          "execution_count": 49
        }
      ]
    },
    {
      "cell_type": "markdown",
      "source": [
        "##### _TASK 2._ Area of a circle\n",
        "##### Below is an instance of how you can calculate the area of a circle using **Python**. The formula is $\\\\pr^2$ and I am writing this using  $\\\\LaTeX$ syntax."
      ],
      "metadata": {
        "id": "pzdf_Y8dbMRQ"
      }
    },
    {
      "cell_type": "code",
      "source": [
        "def area_circle(r):\n",
        "    return math.pi * r ** 2"
      ],
      "metadata": {
        "id": "05rjYTorbP3c"
      },
      "execution_count": null,
      "outputs": []
    },
    {
      "cell_type": "code",
      "source": [
        "area_circle(1)"
      ],
      "metadata": {
        "colab": {
          "base_uri": "https://localhost:8080/"
        },
        "id": "5a6-FYn0bVP-",
        "outputId": "3cce2833-93b6-42a2-bc99-33ff9e76405e"
      },
      "execution_count": null,
      "outputs": [
        {
          "output_type": "execute_result",
          "data": {
            "text/plain": [
              "3.141592653589793"
            ]
          },
          "metadata": {},
          "execution_count": 51
        }
      ]
    },
    {
      "cell_type": "code",
      "source": [
        "area_circle(2)"
      ],
      "metadata": {
        "colab": {
          "base_uri": "https://localhost:8080/"
        },
        "id": "fsEJ0v9mbXJH",
        "outputId": "1a090667-18a9-467e-c02e-a14ff1bff10b"
      },
      "execution_count": null,
      "outputs": [
        {
          "output_type": "execute_result",
          "data": {
            "text/plain": [
              "12.566370614359172"
            ]
          },
          "metadata": {},
          "execution_count": 52
        }
      ]
    },
    {
      "cell_type": "markdown",
      "source": [
        "####  Nevertheless, one of the most important skills of every linguist is the ability to perform the **basic linguistic analysis.**"
      ],
      "metadata": {
        "id": "dSmxr0a9bgCk"
      }
    },
    {
      "cell_type": "markdown",
      "source": [
        "#### _Step 1_ The necessary step is to import the required modules so that our code operates properly."
      ],
      "metadata": {
        "id": "b4-X9YbxbhDD"
      }
    },
    {
      "cell_type": "code",
      "source": [
        "import requests\n",
        "from bs4 import BeautifulSoup\n",
        "import nltk\n",
        "from collections import Counter\n",
        "import re\n",
        "import matplotlib.pyplot as plt"
      ],
      "metadata": {
        "id": "l-BGc1zUbmqG"
      },
      "execution_count": 3,
      "outputs": []
    },
    {
      "cell_type": "markdown",
      "source": [
        "##### _Step 2_ Subsequently, request get() method sends a request to the chosen url. We can assign the content to a variable and print it."
      ],
      "metadata": {
        "id": "7upffKVybz-4"
      }
    },
    {
      "cell_type": "code",
      "source": [
        "page = requests.get(\"https://www.nytimes.com/athletic/5558209/2024/06/12/rafael-nadal-carlos-alcaraz-tennis-olympics/?source=nyt_sports\")\n"
      ],
      "metadata": {
        "id": "GFT2rHzYb03F"
      },
      "execution_count": 15,
      "outputs": []
    },
    {
      "cell_type": "markdown",
      "source": [
        "print(page)\n",
        "\n",
        "print(page.content)"
      ],
      "metadata": {
        "id": "Mqf9PNev49up"
      }
    },
    {
      "cell_type": "markdown",
      "source": [
        "##### _Step 3_ Another important tool is the package called _BeautifulSoup_ that allows to scrape information from web page."
      ],
      "metadata": {
        "id": "MLeK7jyzcCrj"
      }
    },
    {
      "cell_type": "code",
      "source": [
        "\n",
        "soup = BeautifulSoup(page.content, 'html.parser')\n",
        "\n"
      ],
      "metadata": {
        "id": "FcF-fBjFcDdo"
      },
      "execution_count": 16,
      "outputs": []
    },
    {
      "cell_type": "markdown",
      "source": [
        "##### _Step 4_ After _BeautifulSoup_ command, I searched for every paragraph element in the HTML content, utilizing the command content = soup.find_all('p'), and applied them to the variable content. The complete list of paragraph elements is provided by the print (content) statement."
      ],
      "metadata": {
        "id": "u2BX6vqFd4G4"
      }
    },
    {
      "cell_type": "code",
      "source": [
        "paras = soup.find_all('p')\n",
        "print(paras)"
      ],
      "metadata": {
        "colab": {
          "base_uri": "https://localhost:8080/"
        },
        "id": "CV193GWJd7AJ",
        "outputId": "ff83f8d7-0e41-4747-ae61-91539ca80c97"
      },
      "execution_count": 13,
      "outputs": [
        {
          "output_type": "stream",
          "name": "stdout",
          "text": [
            "[<p class=\"sc-4ec04b8c-0 sc-5db001b-39 bAMQoo gzcLuG\">Tennis</p>, <p>Rafael Nadal and Carlos Alcaraz will represent Spain as a tennis doubles pairing at the Paris Olympics, which begins on July 26.</p>, <p>David Ferrer, the former world No 3 and current national selector for Spain, announced at a Royal Spanish Tennis Federation (RFET) press conference on Wednesday that Spain’s men’s team will include Nadal, the 22-time Grand Slam champion, Alcaraz, the three-time Grand Slam champion, Pablo Carreno Busta, and Alejandro Davidovich Fokina. Marcel Granollers, a doubles specialist whose partnership with Argentinian Horacio Zeballos is currently the best in the world by combined ranking, is also included.</p>, <p class=\"ad-slug\">Advertisement</p>, <p>Ferrer said that he believes Nadal and Alcaraz “have the capacity to win a medal in doubles” after the team announcement.</p>, <p>This will be Alcaraz’s first <a class=\"ath_autolink\" data-id=\"42\" href=\"https://www.nytimes.com/athletic/olympics/\">Olympics</a>, coming after his title defence at Wimbledon, which begins on July 1, and his recent victory over Alexander Zverev in the Roland Garros final last Sunday. Nadal is currently on the entry list for Wimbledon, using his protected injury ranking of 10, but said after exiting Roland Garros that playing “wouldn’t be a good idea.”</p>, <p>Nadal, who already holds a singles gold medal from Beijing 2008 and a doubles gold medal from Rio de Janeiro 2016 with Marc Lopez, will compete in his last Games. Although he has not announced his retirement date, he has not ruled out a return to the French Open in 2025 after losing to Zverev in the first round this year.</p>, <p>Paula Badosa, meanwhile, will not feature due to WTA rules. Badosa has chosen to use her protected injury ranking to enter the next two Grand Slam tournaments, at Wimbledon and the U.S. Open, which begins in late August; the former world No 2 was not permitted to use that ranking for both tournaments and the Olympics. Sara Sorribes Tormo and Cristina Bucsa will be Spain’s representatives on the women’s side.</p>, <p class=\"go-deeper-label\">GO DEEPER</p>, <p class=\"go-deeper-title\">100 days until the Olympic Games - is Paris ready?</p>, <p style=\"text-align: right;\"><em>(Candice Ward/Getty Images)</em></p>, <p class=\"sc-4ec04b8c-0 cVLbLs\"><div class=\"sc-ae68ee86-0 fRvPWu\">Get all-access to exclusive stories.</div></p>, <p class=\"sc-4ec04b8c-0 hrYdDV\">Subscribe to The Athletic for in-depth coverage of your favorite players, teams, leagues and clubs. Try a week on us.</p>, <p class=\"sc-4ec04b8c-0 sc-7fd39b08-20 imHPEB QAvsf\" id=\"writerBioText\"><span><strong><a href=\"https://www.nytimes.com/athletic/author/james-hansen/\" target=\"_blank\">James Hansen</a></strong>  is a Senior Editor for The Athletic covering tennis. Prior to joining The Athletic in 2024, he spent just under five years as an editor at Vox Media in London. He attended Cambridge University, where he played college tennis (no relation to the American circuit), and is now a team captain at Ealing Tennis Club in west London.</span> <span>Follow James on Twitter<!-- --> <strong><a href=\"https://twitter.com/jameskhansen\" rel=\"noopener noreferrer\" target=\"_blank\">@<!-- -->jameskhansen</a></strong></span></p>]\n"
          ]
        }
      ]
    },
    {
      "cell_type": "markdown",
      "source": [
        "##### _Step 5_ Afterwards,  I used a for loop along with the getText and strip methods, which is a crucial phase if we want to extract only the text from a particular website."
      ],
      "metadata": {
        "id": "N-9_syTSeHxD"
      }
    },
    {
      "cell_type": "code",
      "source": [
        "only_text = []\n",
        "\n",
        "for el in paras:\n",
        "    if len(el.getText().strip()) > 0:\n",
        "        only_text.append(el.getText())\n",
        "\n",
        "print(only_text)"
      ],
      "metadata": {
        "colab": {
          "base_uri": "https://localhost:8080/"
        },
        "id": "TqRzeeEjeIfN",
        "outputId": "61187482-8a12-40c6-abfa-7fb19ba54368"
      },
      "execution_count": 14,
      "outputs": [
        {
          "output_type": "stream",
          "name": "stdout",
          "text": [
            "['Tennis', 'Rafael Nadal and Carlos Alcaraz will represent Spain as a tennis doubles pairing at the Paris Olympics, which begins on July 26.', 'David Ferrer, the former world No 3 and current national selector for Spain, announced at a Royal Spanish Tennis Federation (RFET) press conference on Wednesday that Spain’s men’s team will include Nadal, the 22-time Grand Slam champion, Alcaraz, the three-time Grand Slam champion, Pablo Carreno Busta, and Alejandro Davidovich Fokina. Marcel Granollers, a doubles specialist whose partnership with Argentinian Horacio Zeballos is currently the best in the world by combined ranking, is also included.', 'Advertisement', 'Ferrer said that he believes Nadal and Alcaraz “have the capacity to win a medal in doubles” after the team announcement.', 'This will be Alcaraz’s first Olympics, coming after his title defence at Wimbledon, which begins on July 1, and his recent victory over Alexander Zverev in the Roland Garros final last Sunday. Nadal is currently on the entry list for Wimbledon, using his protected injury ranking of 10, but said after exiting Roland Garros that playing “wouldn’t be a good idea.”', 'Nadal, who already holds a singles gold medal from Beijing 2008 and a doubles gold medal from Rio de Janeiro 2016 with Marc Lopez, will compete in his last Games. Although he has not announced his retirement date, he has not ruled out a return to the French Open in 2025 after losing to Zverev in the first round this year.', 'Paula Badosa, meanwhile, will not feature due to WTA rules. Badosa has chosen to use her protected injury ranking to enter the next two Grand Slam tournaments, at Wimbledon and the U.S. Open, which begins in late August; the former world No 2 was not permitted to use that ranking for both tournaments and the Olympics. Sara Sorribes Tormo and Cristina Bucsa will be Spain’s representatives on the women’s side.', 'GO DEEPER', '100 days until the Olympic Games - is Paris ready?', '(Candice Ward/Getty Images)', 'Get all-access to exclusive stories.', 'Subscribe to The Athletic for in-depth coverage of your favorite players, teams, leagues and clubs. Try a week on us.', 'James Hansen  is a Senior Editor for The Athletic covering tennis. Prior to joining The Athletic in 2024, he spent just under five years as an editor at Vox Media in London. He attended Cambridge University, where he played college tennis (no relation to the American circuit), and is now a team captain at Ealing Tennis Club in west London. Follow James on Twitter @jameskhansen']\n"
          ]
        }
      ]
    },
    {
      "cell_type": "markdown",
      "source": [
        "##### _Step 6_ The statement _for sentence in only_text:_ iterates over each element in text, while the statement _print(sentence)_ within a function will output the value of the variable sentence each time it is executed."
      ],
      "metadata": {
        "id": "Yo51LRflePjT"
      }
    },
    {
      "cell_type": "code",
      "source": [
        "import nltk"
      ],
      "metadata": {
        "id": "IZMtm9wae-i1"
      },
      "execution_count": null,
      "outputs": []
    },
    {
      "cell_type": "code",
      "source": [
        "for sentence in only_text:\n",
        "  print(sentence)\n"
      ],
      "metadata": {
        "colab": {
          "base_uri": "https://localhost:8080/"
        },
        "id": "kk80GjZTfLsc",
        "outputId": "73ef5230-4a37-4303-95cb-7892bd4e2639"
      },
      "execution_count": null,
      "outputs": [
        {
          "output_type": "stream",
          "name": "stdout",
          "text": [
            "Tennis\n",
            "Rafael Nadal and Carlos Alcaraz will represent Spain as a tennis doubles pairing at the Paris Olympics, which begins on July 26.\n",
            "David Ferrer, the former world No 3 and current national selector for Spain, announced at a Royal Spanish Tennis Federation (RFET) press conference on Wednesday that Spain’s men’s team will include Nadal, the 22-time Grand Slam champion, Alcaraz, the three-time Grand Slam champion, Pablo Carreno Busta, and Alejandro Davidovich Fokina. Marcel Granollers, a doubles specialist whose partnership with Argentinian Horacio Zeballos is currently the best in the world by combined ranking, is also included.\n",
            "Advertisement\n",
            "Ferrer said that he believes Nadal and Alcaraz “have the capacity to win a medal in doubles” after the team announcement.\n",
            "This will be Alcaraz’s first Olympics, coming after his title defence at Wimbledon, which begins on July 1, and his recent victory over Alexander Zverev in the Roland Garros final last Sunday. Nadal is currently on the entry list for Wimbledon, using his protected injury ranking of 10, but said after exiting Roland Garros that playing “wouldn’t be a good idea.”\n",
            "Nadal, who already holds a singles gold medal from Beijing 2008 and a doubles gold medal from Rio de Janeiro 2016 with Marc Lopez, will compete in his last Games. Although he has not announced his retirement date, he has not ruled out a return to the French Open in 2025 after losing to Zverev in the first round this year.\n",
            "Paula Badosa, meanwhile, will not feature due to WTA rules. Badosa has chosen to use her protected injury ranking to enter the next two Grand Slam tournaments, at Wimbledon and the U.S. Open, which begins in late August; the former world No 2 was not permitted to use that ranking for both tournaments and the Olympics. Sara Sorribes Tormo and Cristina Bucsa will be Spain’s representatives on the women’s side.\n",
            "GO DEEPER\n",
            "100 days until the Olympic Games - is Paris ready?\n",
            "(Candice Ward/Getty Images)\n",
            "Get all-access to exclusive stories.\n",
            "Subscribe to The Athletic for in-depth coverage of your favorite players, teams, leagues and clubs. Try a week on us.\n",
            "James Hansen  is a Senior Editor for The Athletic covering tennis. Prior to joining The Athletic in 2024, he spent just under five years as an editor at Vox Media in London. He attended Cambridge University, where he played college tennis (no relation to the American circuit), and is now a team captain at Ealing Tennis Club in west London. Follow James on Twitter @jameskhansen\n"
          ]
        }
      ]
    },
    {
      "cell_type": "markdown",
      "source": [
        "##### _Step 7_ We must apply the \"word_tokenize\" method in order to tokenize our sentences from a scraped text, as shown below:"
      ],
      "metadata": {
        "id": "PUuCJ_qkfTXi"
      }
    },
    {
      "cell_type": "code",
      "source": [
        "for sentence in only_text:\n",
        "  print(nltk.word_tokenize(sentence))"
      ],
      "metadata": {
        "colab": {
          "base_uri": "https://localhost:8080/"
        },
        "id": "q3sABi7bfYJ5",
        "outputId": "5635bfa6-9e8d-4bd5-b9b2-80ff4b6591a1"
      },
      "execution_count": null,
      "outputs": [
        {
          "output_type": "stream",
          "name": "stdout",
          "text": [
            "['Tennis']\n",
            "['Rafael', 'Nadal', 'and', 'Carlos', 'Alcaraz', 'will', 'represent', 'Spain', 'as', 'a', 'tennis', 'doubles', 'pairing', 'at', 'the', 'Paris', 'Olympics', ',', 'which', 'begins', 'on', 'July', '26', '.']\n",
            "['David', 'Ferrer', ',', 'the', 'former', 'world', 'No', '3', 'and', 'current', 'national', 'selector', 'for', 'Spain', ',', 'announced', 'at', 'a', 'Royal', 'Spanish', 'Tennis', 'Federation', '(', 'RFET', ')', 'press', 'conference', 'on', 'Wednesday', 'that', 'Spain', '’', 's', 'men', '’', 's', 'team', 'will', 'include', 'Nadal', ',', 'the', '22-time', 'Grand', 'Slam', 'champion', ',', 'Alcaraz', ',', 'the', 'three-time', 'Grand', 'Slam', 'champion', ',', 'Pablo', 'Carreno', 'Busta', ',', 'and', 'Alejandro', 'Davidovich', 'Fokina', '.', 'Marcel', 'Granollers', ',', 'a', 'doubles', 'specialist', 'whose', 'partnership', 'with', 'Argentinian', 'Horacio', 'Zeballos', 'is', 'currently', 'the', 'best', 'in', 'the', 'world', 'by', 'combined', 'ranking', ',', 'is', 'also', 'included', '.']\n",
            "['Advertisement']\n",
            "['Ferrer', 'said', 'that', 'he', 'believes', 'Nadal', 'and', 'Alcaraz', '“', 'have', 'the', 'capacity', 'to', 'win', 'a', 'medal', 'in', 'doubles', '”', 'after', 'the', 'team', 'announcement', '.']\n",
            "['This', 'will', 'be', 'Alcaraz', '’', 's', 'first', 'Olympics', ',', 'coming', 'after', 'his', 'title', 'defence', 'at', 'Wimbledon', ',', 'which', 'begins', 'on', 'July', '1', ',', 'and', 'his', 'recent', 'victory', 'over', 'Alexander', 'Zverev', 'in', 'the', 'Roland', 'Garros', 'final', 'last', 'Sunday', '.', 'Nadal', 'is', 'currently', 'on', 'the', 'entry', 'list', 'for', 'Wimbledon', ',', 'using', 'his', 'protected', 'injury', 'ranking', 'of', '10', ',', 'but', 'said', 'after', 'exiting', 'Roland', 'Garros', 'that', 'playing', '“', 'wouldn', '’', 't', 'be', 'a', 'good', 'idea', '.', '”']\n",
            "['Nadal', ',', 'who', 'already', 'holds', 'a', 'singles', 'gold', 'medal', 'from', 'Beijing', '2008', 'and', 'a', 'doubles', 'gold', 'medal', 'from', 'Rio', 'de', 'Janeiro', '2016', 'with', 'Marc', 'Lopez', ',', 'will', 'compete', 'in', 'his', 'last', 'Games', '.', 'Although', 'he', 'has', 'not', 'announced', 'his', 'retirement', 'date', ',', 'he', 'has', 'not', 'ruled', 'out', 'a', 'return', 'to', 'the', 'French', 'Open', 'in', '2025', 'after', 'losing', 'to', 'Zverev', 'in', 'the', 'first', 'round', 'this', 'year', '.']\n",
            "['Paula', 'Badosa', ',', 'meanwhile', ',', 'will', 'not', 'feature', 'due', 'to', 'WTA', 'rules', '.', 'Badosa', 'has', 'chosen', 'to', 'use', 'her', 'protected', 'injury', 'ranking', 'to', 'enter', 'the', 'next', 'two', 'Grand', 'Slam', 'tournaments', ',', 'at', 'Wimbledon', 'and', 'the', 'U.S.', 'Open', ',', 'which', 'begins', 'in', 'late', 'August', ';', 'the', 'former', 'world', 'No', '2', 'was', 'not', 'permitted', 'to', 'use', 'that', 'ranking', 'for', 'both', 'tournaments', 'and', 'the', 'Olympics', '.', 'Sara', 'Sorribes', 'Tormo', 'and', 'Cristina', 'Bucsa', 'will', 'be', 'Spain', '’', 's', 'representatives', 'on', 'the', 'women', '’', 's', 'side', '.']\n",
            "['GO', 'DEEPER']\n",
            "['100', 'days', 'until', 'the', 'Olympic', 'Games', '-', 'is', 'Paris', 'ready', '?']\n",
            "['(', 'Candice', 'Ward/Getty', 'Images', ')']\n",
            "['Get', 'all-access', 'to', 'exclusive', 'stories', '.']\n",
            "['Subscribe', 'to', 'The', 'Athletic', 'for', 'in-depth', 'coverage', 'of', 'your', 'favorite', 'players', ',', 'teams', ',', 'leagues', 'and', 'clubs', '.', 'Try', 'a', 'week', 'on', 'us', '.']\n",
            "['James', 'Hansen', 'is', 'a', 'Senior', 'Editor', 'for', 'The', 'Athletic', 'covering', 'tennis', '.', 'Prior', 'to', 'joining', 'The', 'Athletic', 'in', '2024', ',', 'he', 'spent', 'just', 'under', 'five', 'years', 'as', 'an', 'editor', 'at', 'Vox', 'Media', 'in', 'London', '.', 'He', 'attended', 'Cambridge', 'University', ',', 'where', 'he', 'played', 'college', 'tennis', '(', 'no', 'relation', 'to', 'the', 'American', 'circuit', ')', ',', 'and', 'is', 'now', 'a', 'team', 'captain', 'at', 'Ealing', 'Tennis', 'Club', 'in', 'west', 'London', '.', 'Follow', 'James', 'on', 'Twitter', '@', 'jameskhansen']\n"
          ]
        }
      ]
    },
    {
      "cell_type": "markdown",
      "source": [
        "##### _Step 8_ The \"pos_tag\" function enables us obtain parts of speech tags for our sentences. I use a for loop to implement it, and tuples to display it."
      ],
      "metadata": {
        "id": "LzEFcviPfgxG"
      }
    },
    {
      "cell_type": "code",
      "source": [
        "tuples = []\n",
        "\n",
        "for sentence in only_text:\n",
        "    tokens = nltk.word_tokenize(sentence)\n",
        "    pos_tagged = nltk.pos_tag(tokens)\n",
        "    for item in pos_tagged:\n",
        "        tuples.append(item)\n",
        "\n",
        "print(tuples)"
      ],
      "metadata": {
        "colab": {
          "base_uri": "https://localhost:8080/"
        },
        "id": "5ZEdF_XVfnOi",
        "outputId": "1148701e-0d80-4cab-b483-2ec76979651c"
      },
      "execution_count": null,
      "outputs": [
        {
          "output_type": "stream",
          "name": "stdout",
          "text": [
            "[('Tennis', 'NN'), ('Rafael', 'NNP'), ('Nadal', 'NNP'), ('and', 'CC'), ('Carlos', 'NNP'), ('Alcaraz', 'NNP'), ('will', 'MD'), ('represent', 'VB'), ('Spain', 'NNP'), ('as', 'IN'), ('a', 'DT'), ('tennis', 'NN'), ('doubles', 'VBZ'), ('pairing', 'VBG'), ('at', 'IN'), ('the', 'DT'), ('Paris', 'NNP'), ('Olympics', 'NNPS'), (',', ','), ('which', 'WDT'), ('begins', 'VBZ'), ('on', 'IN'), ('July', 'NNP'), ('26', 'CD'), ('.', '.'), ('David', 'NNP'), ('Ferrer', 'NNP'), (',', ','), ('the', 'DT'), ('former', 'JJ'), ('world', 'NN'), ('No', 'NNP'), ('3', 'CD'), ('and', 'CC'), ('current', 'JJ'), ('national', 'JJ'), ('selector', 'NN'), ('for', 'IN'), ('Spain', 'NNP'), (',', ','), ('announced', 'VBD'), ('at', 'IN'), ('a', 'DT'), ('Royal', 'NNP'), ('Spanish', 'NNP'), ('Tennis', 'NNP'), ('Federation', 'NNP'), ('(', '('), ('RFET', 'NNP'), (')', ')'), ('press', 'NN'), ('conference', 'NN'), ('on', 'IN'), ('Wednesday', 'NNP'), ('that', 'IN'), ('Spain', 'NNP'), ('’', 'NNP'), ('s', 'JJ'), ('men', 'NNS'), ('’', 'VBP'), ('s', 'JJ'), ('team', 'NN'), ('will', 'MD'), ('include', 'VB'), ('Nadal', 'NNP'), (',', ','), ('the', 'DT'), ('22-time', 'JJ'), ('Grand', 'NNP'), ('Slam', 'NNP'), ('champion', 'NN'), (',', ','), ('Alcaraz', 'NNP'), (',', ','), ('the', 'DT'), ('three-time', 'JJ'), ('Grand', 'NNP'), ('Slam', 'NNP'), ('champion', 'NN'), (',', ','), ('Pablo', 'NNP'), ('Carreno', 'NNP'), ('Busta', 'NNP'), (',', ','), ('and', 'CC'), ('Alejandro', 'NNP'), ('Davidovich', 'NNP'), ('Fokina', 'NNP'), ('.', '.'), ('Marcel', 'NNP'), ('Granollers', 'NNP'), (',', ','), ('a', 'DT'), ('doubles', 'NNS'), ('specialist', 'NN'), ('whose', 'WP$'), ('partnership', 'NN'), ('with', 'IN'), ('Argentinian', 'JJ'), ('Horacio', 'NNP'), ('Zeballos', 'NNP'), ('is', 'VBZ'), ('currently', 'RB'), ('the', 'DT'), ('best', 'JJS'), ('in', 'IN'), ('the', 'DT'), ('world', 'NN'), ('by', 'IN'), ('combined', 'JJ'), ('ranking', 'NN'), (',', ','), ('is', 'VBZ'), ('also', 'RB'), ('included', 'VBN'), ('.', '.'), ('Advertisement', 'NN'), ('Ferrer', 'NNP'), ('said', 'VBD'), ('that', 'IN'), ('he', 'PRP'), ('believes', 'VBZ'), ('Nadal', 'NNP'), ('and', 'CC'), ('Alcaraz', 'NNP'), ('“', 'NNP'), ('have', 'VBP'), ('the', 'DT'), ('capacity', 'NN'), ('to', 'TO'), ('win', 'VB'), ('a', 'DT'), ('medal', 'NN'), ('in', 'IN'), ('doubles', 'NNS'), ('”', 'VBP'), ('after', 'IN'), ('the', 'DT'), ('team', 'NN'), ('announcement', 'NN'), ('.', '.'), ('This', 'DT'), ('will', 'MD'), ('be', 'VB'), ('Alcaraz', 'NNP'), ('’', 'NNP'), ('s', 'VBD'), ('first', 'JJ'), ('Olympics', 'NNPS'), (',', ','), ('coming', 'VBG'), ('after', 'IN'), ('his', 'PRP$'), ('title', 'NN'), ('defence', 'NN'), ('at', 'IN'), ('Wimbledon', 'NNP'), (',', ','), ('which', 'WDT'), ('begins', 'VBZ'), ('on', 'IN'), ('July', 'NNP'), ('1', 'CD'), (',', ','), ('and', 'CC'), ('his', 'PRP$'), ('recent', 'JJ'), ('victory', 'NN'), ('over', 'IN'), ('Alexander', 'NNP'), ('Zverev', 'NNP'), ('in', 'IN'), ('the', 'DT'), ('Roland', 'NNP'), ('Garros', 'NNP'), ('final', 'JJ'), ('last', 'JJ'), ('Sunday', 'NNP'), ('.', '.'), ('Nadal', 'NNP'), ('is', 'VBZ'), ('currently', 'RB'), ('on', 'IN'), ('the', 'DT'), ('entry', 'NN'), ('list', 'NN'), ('for', 'IN'), ('Wimbledon', 'NNP'), (',', ','), ('using', 'VBG'), ('his', 'PRP$'), ('protected', 'JJ'), ('injury', 'NN'), ('ranking', 'NN'), ('of', 'IN'), ('10', 'CD'), (',', ','), ('but', 'CC'), ('said', 'VBD'), ('after', 'IN'), ('exiting', 'VBG'), ('Roland', 'NNP'), ('Garros', 'NNP'), ('that', 'IN'), ('playing', 'VBG'), ('“', 'NNP'), ('wouldn', 'NN'), ('’', 'NNP'), ('t', 'NN'), ('be', 'VB'), ('a', 'DT'), ('good', 'JJ'), ('idea', 'NN'), ('.', '.'), ('”', 'VB'), ('Nadal', 'NNP'), (',', ','), ('who', 'WP'), ('already', 'RB'), ('holds', 'VBZ'), ('a', 'DT'), ('singles', 'NNS'), ('gold', 'NN'), ('medal', 'NN'), ('from', 'IN'), ('Beijing', 'NNP'), ('2008', 'CD'), ('and', 'CC'), ('a', 'DT'), ('doubles', 'NNS'), ('gold', 'NN'), ('medal', 'NN'), ('from', 'IN'), ('Rio', 'NNP'), ('de', 'IN'), ('Janeiro', 'NNP'), ('2016', 'CD'), ('with', 'IN'), ('Marc', 'NNP'), ('Lopez', 'NNP'), (',', ','), ('will', 'MD'), ('compete', 'VB'), ('in', 'IN'), ('his', 'PRP$'), ('last', 'JJ'), ('Games', 'NNPS'), ('.', '.'), ('Although', 'IN'), ('he', 'PRP'), ('has', 'VBZ'), ('not', 'RB'), ('announced', 'VBN'), ('his', 'PRP$'), ('retirement', 'NN'), ('date', 'NN'), (',', ','), ('he', 'PRP'), ('has', 'VBZ'), ('not', 'RB'), ('ruled', 'VBN'), ('out', 'RP'), ('a', 'DT'), ('return', 'NN'), ('to', 'TO'), ('the', 'DT'), ('French', 'JJ'), ('Open', 'NNP'), ('in', 'IN'), ('2025', 'CD'), ('after', 'IN'), ('losing', 'VBG'), ('to', 'TO'), ('Zverev', 'NNP'), ('in', 'IN'), ('the', 'DT'), ('first', 'JJ'), ('round', 'NN'), ('this', 'DT'), ('year', 'NN'), ('.', '.'), ('Paula', 'NNP'), ('Badosa', 'NNP'), (',', ','), ('meanwhile', 'RB'), (',', ','), ('will', 'MD'), ('not', 'RB'), ('feature', 'VB'), ('due', 'JJ'), ('to', 'TO'), ('WTA', 'NNP'), ('rules', 'NNS'), ('.', '.'), ('Badosa', 'NNP'), ('has', 'VBZ'), ('chosen', 'VBN'), ('to', 'TO'), ('use', 'VB'), ('her', 'PRP$'), ('protected', 'JJ'), ('injury', 'NN'), ('ranking', 'VBG'), ('to', 'TO'), ('enter', 'VB'), ('the', 'DT'), ('next', 'JJ'), ('two', 'CD'), ('Grand', 'NNP'), ('Slam', 'NNP'), ('tournaments', 'NNS'), (',', ','), ('at', 'IN'), ('Wimbledon', 'NNP'), ('and', 'CC'), ('the', 'DT'), ('U.S.', 'NNP'), ('Open', 'NNP'), (',', ','), ('which', 'WDT'), ('begins', 'VBZ'), ('in', 'IN'), ('late', 'JJ'), ('August', 'NNP'), (';', ':'), ('the', 'DT'), ('former', 'JJ'), ('world', 'NN'), ('No', 'NNP'), ('2', 'CD'), ('was', 'VBD'), ('not', 'RB'), ('permitted', 'VBN'), ('to', 'TO'), ('use', 'VB'), ('that', 'IN'), ('ranking', 'VBG'), ('for', 'IN'), ('both', 'DT'), ('tournaments', 'NNS'), ('and', 'CC'), ('the', 'DT'), ('Olympics', 'NNPS'), ('.', '.'), ('Sara', 'NNP'), ('Sorribes', 'NNP'), ('Tormo', 'NNP'), ('and', 'CC'), ('Cristina', 'NNP'), ('Bucsa', 'NNP'), ('will', 'MD'), ('be', 'VB'), ('Spain', 'NNP'), ('’', 'NNP'), ('s', 'VBP'), ('representatives', 'NNS'), ('on', 'IN'), ('the', 'DT'), ('women', 'NNS'), ('’', 'VBP'), ('s', 'JJ'), ('side', 'NN'), ('.', '.'), ('GO', 'NNP'), ('DEEPER', 'NNP'), ('100', 'CD'), ('days', 'NNS'), ('until', 'IN'), ('the', 'DT'), ('Olympic', 'NNP'), ('Games', 'NNP'), ('-', ':'), ('is', 'VBZ'), ('Paris', 'NNP'), ('ready', 'JJ'), ('?', '.'), ('(', '('), ('Candice', 'NNP'), ('Ward/Getty', 'NNP'), ('Images', 'NNP'), (')', ')'), ('Get', 'VB'), ('all-access', 'JJ'), ('to', 'TO'), ('exclusive', 'JJ'), ('stories', 'NNS'), ('.', '.'), ('Subscribe', 'NNP'), ('to', 'TO'), ('The', 'DT'), ('Athletic', 'NNP'), ('for', 'IN'), ('in-depth', 'JJ'), ('coverage', 'NN'), ('of', 'IN'), ('your', 'PRP$'), ('favorite', 'JJ'), ('players', 'NNS'), (',', ','), ('teams', 'NNS'), (',', ','), ('leagues', 'NNS'), ('and', 'CC'), ('clubs', 'NNS'), ('.', '.'), ('Try', 'VB'), ('a', 'DT'), ('week', 'NN'), ('on', 'IN'), ('us', 'PRP'), ('.', '.'), ('James', 'NNP'), ('Hansen', 'NNP'), ('is', 'VBZ'), ('a', 'DT'), ('Senior', 'JJ'), ('Editor', 'NN'), ('for', 'IN'), ('The', 'DT'), ('Athletic', 'NNP'), ('covering', 'NN'), ('tennis', 'NN'), ('.', '.'), ('Prior', 'NNP'), ('to', 'TO'), ('joining', 'VBG'), ('The', 'DT'), ('Athletic', 'NNP'), ('in', 'IN'), ('2024', 'CD'), (',', ','), ('he', 'PRP'), ('spent', 'VBD'), ('just', 'RB'), ('under', 'IN'), ('five', 'CD'), ('years', 'NNS'), ('as', 'IN'), ('an', 'DT'), ('editor', 'NN'), ('at', 'IN'), ('Vox', 'NNP'), ('Media', 'NNP'), ('in', 'IN'), ('London', 'NNP'), ('.', '.'), ('He', 'PRP'), ('attended', 'VBD'), ('Cambridge', 'NNP'), ('University', 'NNP'), (',', ','), ('where', 'WRB'), ('he', 'PRP'), ('played', 'VBD'), ('college', 'NN'), ('tennis', 'NN'), ('(', '('), ('no', 'DT'), ('relation', 'NN'), ('to', 'TO'), ('the', 'DT'), ('American', 'NNP'), ('circuit', 'NN'), (')', ')'), (',', ','), ('and', 'CC'), ('is', 'VBZ'), ('now', 'RB'), ('a', 'DT'), ('team', 'NN'), ('captain', 'NN'), ('at', 'IN'), ('Ealing', 'NNP'), ('Tennis', 'NNP'), ('Club', 'NNP'), ('in', 'IN'), ('west', 'JJ'), ('London', 'NNP'), ('.', '.'), ('Follow', 'NNP'), ('James', 'NNP'), ('on', 'IN'), ('Twitter', 'NNP'), ('@', 'NNP'), ('jameskhansen', 'NN')]\n"
          ]
        }
      ]
    },
    {
      "cell_type": "markdown",
      "source": [
        "##### _Step 9_ What is more, we can check and present the most frequent parts of speech by creating a dictionary and adding values using a for loop."
      ],
      "metadata": {
        "id": "hCYWdeMcf1l3"
      }
    },
    {
      "cell_type": "code",
      "source": [
        "counter_dict = {}\n",
        "\n",
        "for el in tuples:\n",
        "    tag = el[1]\n",
        "    if tag not in counter_dict:\n",
        "      counter_dict[tag] = 1\n",
        "    else:\n",
        "      counter_dict[tag] += 1\n",
        "\n",
        "print(counter_dict)"
      ],
      "metadata": {
        "colab": {
          "base_uri": "https://localhost:8080/"
        },
        "id": "4MxiJQoBf0FE",
        "outputId": "cb7b0316-b6f6-4255-a63f-3a43b869f52d"
      },
      "execution_count": null,
      "outputs": [
        {
          "output_type": "stream",
          "name": "stdout",
          "text": [
            "{'NN': 53, 'NNP': 109, 'CC': 12, 'MD': 6, 'VB': 14, 'IN': 50, 'DT': 38, 'VBZ': 15, 'VBG': 9, 'NNPS': 4, ',': 27, 'WDT': 3, 'CD': 12, '.': 18, 'JJ': 31, 'VBD': 8, '(': 3, ')': 3, 'NNS': 17, 'VBP': 5, 'WP$': 1, 'RB': 11, 'JJS': 1, 'VBN': 5, 'PRP': 7, 'TO': 11, 'PRP$': 7, 'WP': 1, 'RP': 1, ':': 2, 'WRB': 1}\n"
          ]
        }
      ]
    },
    {
      "cell_type": "markdown",
      "source": [
        "##### _Step 9_ Additionally, we can view the previously constructed dictionary's keys and values independently."
      ],
      "metadata": {
        "id": "Jfoz_NMjgBEZ"
      }
    },
    {
      "cell_type": "code",
      "source": [
        "keys = []\n",
        "values = []\n",
        "\n",
        "for el in counter_dict:\n",
        "  keys.append(el)\n",
        "  values.append(counter_dict[el])\n",
        "\n",
        "print(keys)\n",
        "print(values)"
      ],
      "metadata": {
        "colab": {
          "base_uri": "https://localhost:8080/"
        },
        "id": "RD6__ezUf_WR",
        "outputId": "0bc8defd-e60d-4bd6-cc97-53dfb2016757"
      },
      "execution_count": null,
      "outputs": [
        {
          "output_type": "stream",
          "name": "stdout",
          "text": [
            "['NN', 'NNP', 'CC', 'MD', 'VB', 'IN', 'DT', 'VBZ', 'VBG', 'NNPS', ',', 'WDT', 'CD', '.', 'JJ', 'VBD', '(', ')', 'NNS', 'VBP', 'WP$', 'RB', 'JJS', 'VBN', 'PRP', 'TO', 'PRP$', 'WP', 'RP', ':', 'WRB']\n",
            "[53, 109, 12, 6, 14, 50, 38, 15, 9, 4, 27, 3, 12, 18, 31, 8, 3, 3, 17, 5, 1, 11, 1, 5, 7, 11, 7, 1, 1, 2, 1]\n"
          ]
        }
      ]
    },
    {
      "cell_type": "markdown",
      "source": [
        "##### _Step 9_ To get rid of punctuation marks we showld use the code below. See? _AS simple as that._"
      ],
      "metadata": {
        "id": "CU3Pu-atgF8L"
      }
    },
    {
      "cell_type": "markdown",
      "source": [
        "words = [word.lower() for word in words if word.isalpha()]"
      ],
      "metadata": {
        "id": "EUBbXX2vs6Wz"
      }
    },
    {
      "cell_type": "markdown",
      "source": [
        "##### _Step 10_ Finally, we also can get the total number of words from the text to diversify our code."
      ],
      "metadata": {
        "id": "wLQa9RA4hoh3"
      }
    },
    {
      "cell_type": "markdown",
      "source": [
        "print(len(words))"
      ],
      "metadata": {
        "id": "mXA9wsDftAeX"
      }
    },
    {
      "cell_type": "markdown",
      "source": [
        "##### _Step 11_ Another intriguing aspect is that our data can be effortlessly presented utilizing various types of charts. To accomplish this, we must import the matplotlib.pyplot collection"
      ],
      "metadata": {
        "id": "HeyUVMSgvPCv"
      }
    },
    {
      "cell_type": "code",
      "source": [
        "import matplotlib.pyplot as plt"
      ],
      "metadata": {
        "id": "a9QDRCxiwd5N"
      },
      "execution_count": null,
      "outputs": []
    },
    {
      "cell_type": "markdown",
      "source": [
        "After getting the collection, we can choose bar chart or pie chart, for instance:"
      ],
      "metadata": {
        "id": "iBKlbuaEwmM8"
      }
    },
    {
      "cell_type": "code",
      "source": [
        "plt.bar(keys, values, color=\"yellow\")"
      ],
      "metadata": {
        "colab": {
          "base_uri": "https://localhost:8080/",
          "height": 448
        },
        "id": "PxKKjdrHwnKS",
        "outputId": "02896ce2-2ffb-46bd-8452-fbfed49da8a0"
      },
      "execution_count": null,
      "outputs": [
        {
          "output_type": "execute_result",
          "data": {
            "text/plain": [
              "<BarContainer object of 31 artists>"
            ]
          },
          "metadata": {},
          "execution_count": 70
        },
        {
          "output_type": "display_data",
          "data": {
            "text/plain": [
              "<Figure size 640x480 with 1 Axes>"
            ],
            "image/png": "[encoded data removed]"
          },
          "metadata": {}
        }
      ]
    },
    {
      "cell_type": "code",
      "source": [
        "plt.pie(values,labels = keys)"
      ],
      "metadata": {
        "colab": {
          "base_uri": "https://localhost:8080/",
          "height": 1000
        },
        "id": "-4-29qfZwxqQ",
        "outputId": "99e1a516-39d9-46c5-958c-0597ce2f5a7b"
      },
      "execution_count": null,
      "outputs": [
        {
          "output_type": "execute_result",
          "data": {
            "text/plain": [
              "([<matplotlib.patches.Wedge at 0x7c971fe6f250>,\n",
              "  <matplotlib.patches.Wedge at 0x7c971fe6f160>,\n",
              "  <matplotlib.patches.Wedge at 0x7c971fe6fb20>,\n",
              "  <matplotlib.patches.Wedge at 0x7c971fe6ffa0>,\n",
              "  <matplotlib.patches.Wedge at 0x7c971fea0460>,\n",
              "  <matplotlib.patches.Wedge at 0x7c971fea08e0>,\n",
              "  <matplotlib.patches.Wedge at 0x7c971fea0d60>,\n",
              "  <matplotlib.patches.Wedge at 0x7c971fea11e0>,\n",
              "  <matplotlib.patches.Wedge at 0x7c971fea1660>,\n",
              "  <matplotlib.patches.Wedge at 0x7c971fea1ae0>,\n",
              "  <matplotlib.patches.Wedge at 0x7c971fe6f220>,\n",
              "  <matplotlib.patches.Wedge at 0x7c971fea23b0>,\n",
              "  <matplotlib.patches.Wedge at 0x7c971fea2830>,\n",
              "  <matplotlib.patches.Wedge at 0x7c971fea2cb0>,\n",
              "  <matplotlib.patches.Wedge at 0x7c971fea3130>,\n",
              "  <matplotlib.patches.Wedge at 0x7c971fea35b0>,\n",
              "  <matplotlib.patches.Wedge at 0x7c971fea3a30>,\n",
              "  <matplotlib.patches.Wedge at 0x7c971fea3eb0>,\n",
              "  <matplotlib.patches.Wedge at 0x7c971feec370>,\n",
              "  <matplotlib.patches.Wedge at 0x7c971feec7f0>,\n",
              "  <matplotlib.patches.Wedge at 0x7c971feecc70>,\n",
              "  <matplotlib.patches.Wedge at 0x7c971feed0f0>,\n",
              "  <matplotlib.patches.Wedge at 0x7c971feed570>,\n",
              "  <matplotlib.patches.Wedge at 0x7c971feed9f0>,\n",
              "  <matplotlib.patches.Wedge at 0x7c971feede70>,\n",
              "  <matplotlib.patches.Wedge at 0x7c971feee2f0>,\n",
              "  <matplotlib.patches.Wedge at 0x7c971feee770>,\n",
              "  <matplotlib.patches.Wedge at 0x7c971feeebf0>,\n",
              "  <matplotlib.patches.Wedge at 0x7c971feef070>,\n",
              "  <matplotlib.patches.Wedge at 0x7c971feef4f0>,\n",
              "  <matplotlib.patches.Wedge at 0x7c971feef970>],\n",
              " [Text(1.0358109433937635, 0.3702643508977363, 'NN'),\n",
              "  Text(0.19491010223155297, 1.0825941308025302, 'NNP'),\n",
              "  Text(-0.6262237254811686, 0.9043471930870832, 'CC'),\n",
              "  Text(-0.7271757563307001, 0.8253577523746138, 'MD'),\n",
              "  Text(-0.8277085291710881, 0.724498854890354, 'VB'),\n",
              "  Text(-1.04941546657422, 0.3297380452947647, 'IN'),\n",
              "  Text(-1.0614350799297736, -0.2887136489577091, 'DT'),\n",
              "  Text(-0.9023142761058037, -0.6291493837997935, 'VBZ'),\n",
              "  Text(-0.7940184698764797, -0.7612717448421518, 'VBG'),\n",
              "  Text(-0.7271758070427918, -0.8253577076950724, 'NNPS'),\n",
              "  Text(-0.5479418621957873, -0.9538132498835465, ','),\n",
              "  Text(-0.35344286869716013, -1.0416708398371928, 'WDT'),\n",
              "  Text(-0.25072349271288086, -1.071045157872372, 'CD'),\n",
              "  Text(-0.03918067660388912, -1.0993019942585667, '.'),\n",
              "  Text(0.3058636923639415, -1.0566207463860893, 'JJ'),\n",
              "  Text(0.5602521533202633, -0.9466348423230618, 'VBD'),\n",
              "  Text(0.626223725481168, -0.9043471930870837, '('),\n",
              "  Text(0.6608894952950861, -0.8793321755790621, ')'),\n",
              "  Text(0.7689505956099124, -0.7865843765999686, 'NNS'),\n",
              "  Text(0.8728693604763587, -0.6694020313246686, 'VBP'),\n",
              "  Text(0.8982200148975573, -0.6349809484050936, 'WP$'),\n",
              "  Text(0.9448153343371055, -0.563315172884118, 'RB'),\n",
              "  Text(0.9857049786458286, -0.4882475755933938, 'JJS'),\n",
              "  Text(1.0039316180699238, -0.4495790322507321, 'VBN'),\n",
              "  Text(1.0358109368937665, -0.37026436908141486, 'PRP'),\n",
              "  Text(1.0718515730470273, -0.24725332223574542, 'TO'),\n",
              "  Text(1.0933374878804203, -0.12088481126813264, 'PRP$'),\n",
              "  Text(1.0981312932343241, -0.06409105100956694, 'WP'),\n",
              "  Text(1.0988694211482175, -0.049859755969933285, 'RP'),\n",
              "  Text(1.0996307886703371, -0.028497870240644485, ':'),\n",
              "  Text(1.0999769230268648, -0.0071252233895378065, 'WRB')])"
            ]
          },
          "metadata": {},
          "execution_count": 71
        },
        {
          "output_type": "display_data",
          "data": {
            "text/plain": [
              "<Figure size 640x480 with 1 Axes>"
            ],
            "image/png": "[encoded data removed]"
          },
          "metadata": {}
        }
      ]
    },
    {
      "cell_type": "markdown",
      "source": [
        "# **Thank you for your attention!** _Now, it is your turn to experience this interesting tool with many more possibilities!_"
      ],
      "metadata": {
        "id": "I8ApA-aOlEm9"
      }
    }
  ]
}